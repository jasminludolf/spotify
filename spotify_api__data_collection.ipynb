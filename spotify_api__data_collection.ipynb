{
 "cells": [
  {
   "cell_type": "markdown",
   "id": "5cf1c678",
   "metadata": {},
   "source": [
    "# Spotify API"
   ]
  },
  {
   "cell_type": "markdown",
   "id": "e2f4053c",
   "metadata": {},
   "source": [
    "Import packages & libraries"
   ]
  },
  {
   "cell_type": "code",
   "execution_count": 1,
   "id": "ab818943",
   "metadata": {},
   "outputs": [],
   "source": [
    "import spotipy\n",
    "import spotify_credentials\n",
    "from spotipy.oauth2 import SpotifyClientCredentials\n",
    "\n",
    "import pandas as pd\n",
    "import numpy as np\n",
    "import requests\n",
    "import matplotlib.pyplot as plt\n",
    "from pprint import pprint\n",
    "%matplotlib inline\n",
    "\n",
    "from time import sleep"
   ]
  },
  {
   "cell_type": "markdown",
   "id": "aba93e44",
   "metadata": {},
   "source": [
    "Authenticate"
   ]
  },
  {
   "cell_type": "code",
   "execution_count": 2,
   "id": "05797ab4",
   "metadata": {},
   "outputs": [],
   "source": [
    "AUTH_URL = 'https://accounts.spotify.com/api/token'\n",
    "\n",
    "auth_response = requests.post(AUTH_URL, {\n",
    "    'grant_type': 'client_credentials',\n",
    "    'client_id': spotify_credentials.client_id,\n",
    "    'client_secret': spotify_credentials.client_secret,\n",
    "})\n",
    "\n",
    "auth_response_data = auth_response.json()\n",
    "\n",
    "access_token = auth_response_data['access_token']"
   ]
  },
  {
   "cell_type": "code",
   "execution_count": 3,
   "id": "0ef24c4f",
   "metadata": {},
   "outputs": [],
   "source": [
    "headers = {\n",
    "    'Authorization': 'Bearer {token}'.format(token=access_token)\n",
    "}"
   ]
  },
  {
   "cell_type": "code",
   "execution_count": 4,
   "id": "37da31fb",
   "metadata": {},
   "outputs": [],
   "source": [
    "auth_manager = SpotifyClientCredentials(client_id=spotify_credentials.client_id, client_secret=spotify_credentials.client_secret)\n",
    "sp = spotipy.Spotify(auth_manager=auth_manager)"
   ]
  },
  {
   "cell_type": "markdown",
   "id": "026436d5",
   "metadata": {},
   "source": [
    "Pull from API"
   ]
  },
  {
   "cell_type": "code",
   "execution_count": 6,
   "id": "502c90ab",
   "metadata": {},
   "outputs": [],
   "source": [
    "BASE_URL = 'https://api.spotify.com/v1/'"
   ]
  },
  {
   "cell_type": "markdown",
   "id": "ec03faa6",
   "metadata": {},
   "source": [
    "Countries"
   ]
  },
  {
   "cell_type": "code",
   "execution_count": 7,
   "id": "68408f5f",
   "metadata": {},
   "outputs": [],
   "source": [
    "r = requests.get(BASE_URL + 'markets', headers=headers)"
   ]
  },
  {
   "cell_type": "code",
   "execution_count": 10,
   "id": "4d32114c",
   "metadata": {
    "scrolled": true
   },
   "outputs": [],
   "source": [
    "# r = r.json()\n",
    "# r"
   ]
  },
  {
   "cell_type": "code",
   "execution_count": 11,
   "id": "1c5c39b7",
   "metadata": {},
   "outputs": [],
   "source": [
    "# This is the list of markets where Spotify is available:\n",
    "countries = ['AD', 'AE', 'AG', 'AL', 'AM', 'AO', 'AR', 'AT', 'AU', 'AZ', 'BA', 'BB',\n",
    "             'BD', 'BE', 'BF', 'BG', 'BH', 'BI', 'BJ', 'BN', 'BO', 'BR', 'BS', 'BT',\n",
    "             'BW', 'BY', 'BZ', 'CA', 'CD', 'CG', 'CH', 'CI', 'CL', 'CM', 'CO', 'CR',\n",
    "             'CV', 'CW', 'CY', 'CZ', 'DE', 'DJ', 'DK', 'DM', 'DO', 'DZ', 'EC', 'EE',\n",
    "             'EG', 'ES', 'FI', 'FJ', 'FM', 'FR', 'GA', 'GB', 'GD', 'GE', 'GH', 'GM',\n",
    "             'GN', 'GQ', 'GR', 'GT', 'GW', 'GY', 'HK', 'HN', 'HR', 'HT', 'HU', 'ID',\n",
    "             'IE', 'IL', 'IN', 'IQ', 'IS', 'IT', 'JM', 'JO', 'JP', 'KE', 'KG', 'KH',\n",
    "             'KI', 'KM', 'KN', 'KR', 'KW', 'KZ', 'LA', 'LB', 'LC', 'LI', 'LK', 'LR',\n",
    "             'LS', 'LT', 'LU', 'LV', 'LY', 'MA', 'MC', 'MD', 'ME', 'MG', 'MH', 'MK',\n",
    "             'ML', 'MN', 'MO', 'MR', 'MT', 'MU', 'MV', 'MW', 'MX', 'MY', 'MZ', 'NA',\n",
    "             'NE', 'NG', 'NI', 'NL', 'NO', 'NP', 'NR', 'NZ', 'OM', 'PA', 'PE', 'PG',\n",
    "             'PH', 'PK', 'PL', 'PS', 'PT', 'PW', 'PY', 'QA', 'RO', 'RS', 'RU', 'RW',\n",
    "             'SA', 'SB', 'SC', 'SE', 'SG', 'SI', 'SK', 'SL', 'SM', 'SN', 'SR', 'ST',\n",
    "             'SV', 'SZ', 'TD', 'TG', 'TH', 'TJ', 'TL', 'TN', 'TO', 'TR', 'TT', 'TV',\n",
    "             'TW', 'TZ', 'UA', 'UG', 'US', 'UY', 'UZ', 'VC', 'VE', 'VN', 'VU', 'WS',\n",
    "             'XK', 'ZA', 'ZM', 'ZW']"
   ]
  },
  {
   "cell_type": "markdown",
   "id": "b6230a38",
   "metadata": {},
   "source": [
    "Categories"
   ]
  },
  {
   "cell_type": "code",
   "execution_count": 13,
   "id": "1c3748e8",
   "metadata": {},
   "outputs": [],
   "source": [
    "r = requests.get(BASE_URL + 'browse/categories', headers=headers)\n",
    "r = r.json()\n",
    "\n",
    "categories = []\n",
    "for i in range(0, len(r['categories']['items'])):\n",
    "    categories.append(r['categories']['items'][i]['id'])"
   ]
  },
  {
   "cell_type": "code",
   "execution_count": 16,
   "id": "bfd8c6a2",
   "metadata": {},
   "outputs": [
    {
     "data": {
      "text/plain": [
       "['toplists',\n",
       " 'hiphop',\n",
       " 'pop',\n",
       " 'mood',\n",
       " 'chill',\n",
       " 'equal',\n",
       " 'at_home',\n",
       " 'fresh_finds',\n",
       " 'party',\n",
       " 'workout',\n",
       " 'decades',\n",
       " 'rock',\n",
       " 'indie_alt',\n",
       " 'focus',\n",
       " 'radar',\n",
       " 'kids_family',\n",
       " 'romance',\n",
       " 'edm_dance',\n",
       " 'dinner',\n",
       " 'thirdparty']"
      ]
     },
     "execution_count": 16,
     "metadata": {},
     "output_type": "execute_result"
    }
   ],
   "source": [
    "# These are Spotify's playlist categories:\n",
    "categories"
   ]
  },
  {
   "cell_type": "code",
   "execution_count": null,
   "id": "6f89e665",
   "metadata": {},
   "outputs": [],
   "source": [
    "# I will focus on the following categories:\n",
    "# 'at_home', 'party', 'workout', 'focus', 'romance', 'dinner'"
   ]
  }
 ],
 "metadata": {
  "kernelspec": {
   "display_name": "Python 3 (ipykernel)",
   "language": "python",
   "name": "python3"
  },
  "language_info": {
   "codemirror_mode": {
    "name": "ipython",
    "version": 3
   },
   "file_extension": ".py",
   "mimetype": "text/x-python",
   "name": "python",
   "nbconvert_exporter": "python",
   "pygments_lexer": "ipython3",
   "version": "3.8.11"
  }
 },
 "nbformat": 4,
 "nbformat_minor": 5
}
